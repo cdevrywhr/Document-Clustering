{
 "cells": [
  {
   "cell_type": "code",
   "execution_count": 1,
   "metadata": {},
   "outputs": [],
   "source": [
    "from sklearn.feature_extraction.text import TfidfVectorizer\n",
    "from sklearn.cluster import KMeans\n",
    "from sklearn.metrics import adjusted_rand_score"
   ]
  },
  {
   "cell_type": "code",
   "execution_count": 2,
   "metadata": {},
   "outputs": [],
   "source": [
    "file_stopword = open(\"stopword_list_i.txt\",\"r\")\n",
    "stopword = file_stopword.read().splitlines()"
   ]
  },
  {
   "cell_type": "code",
   "execution_count": 3,
   "metadata": {},
   "outputs": [],
   "source": [
    "documents = [\"Kucing kecil ini datang untuk bermain ketika aku sedang makan di restoran.\",\\\n",
    "            \"Merley memiliki perut kucing squooshy terbaik.\",\\\n",
    "            \"Aplikasi Google translate luar biasa.\",\\\n",
    "            \"Jika Anda membuka 100 tab di google anda mendapatkan wajah yang tersenyum.\",\\\n",
    "            \"Foto kucing terbaik yang pernah saya ambil.\",\\\n",
    "            \"Memanjat kucing ninja.\",\\\n",
    "            \"Terkesan dengan umpan balik google map.\",\\\n",
    "            \"Ekstensi promotor utama untuk google chrome.\"]"
   ]
  },
  {
   "cell_type": "code",
   "execution_count": 11,
   "metadata": {},
   "outputs": [
    {
     "output_type": "stream",
     "name": "stdout",
     "text": "TfidfVectorizer(analyzer='word', binary=False, decode_error='strict',\n                dtype=<class 'numpy.float64'>, encoding='utf-8',\n                input='content', lowercase=True, max_df=1.0, max_features=None,\n                min_df=1, ngram_range=(1, 1), norm='l2', preprocessor=None,\n                smooth_idf=True,\n                stop_words=['ada', 'adalah', 'adanya', 'adapun', 'agak',\n                            'agaknya', 'agar', 'akan', 'akankah', 'akhir',\n                            'akhiri', 'akhirnya', 'aku', 'akulah', 'amat',\n                            'amatlah', 'anda', 'andalah', 'antar', 'antara',\n                            'antaranya', 'apa', 'apaan', 'apabila', 'apakah',\n                            'apalagi', 'apatah', 'artinya', 'asal', 'asalkan', ...],\n                strip_accents=None, sublinear_tf=False,\n                token_pattern='(?u)\\\\b\\\\w\\\\w+\\\\b', tokenizer=None, use_idf=True,\n                vocabulary=None)\n  (0, 18)\t0.5421620785047858\n  (0, 9)\t0.5421620785047858\n  (0, 3)\t0.5421620785047858\n  (0, 8)\t0.3437744055250645\n  (1, 21)\t0.37094601851668646\n  (1, 19)\t0.4426151249601719\n  (1, 16)\t0.4426151249601719\n  (1, 13)\t0.4426151249601719\n  (1, 14)\t0.4426151249601719\n  (1, 8)\t0.28065362276760947\n  (2, 24)\t0.645220633322045\n  (2, 7)\t0.4091218261972811\n  (2, 2)\t0.645220633322045\n  (3, 23)\t0.43024950073848917\n  (3, 27)\t0.43024950073848917\n  (3, 20)\t0.43024950073848917\n  (3, 0)\t0.43024950073848917\n  (3, 12)\t0.43024950073848917\n  (3, 7)\t0.272812821493793\n  (4, 1)\t0.5675561858489735\n  (4, 6)\t0.5675561858489735\n  (4, 21)\t0.47565637853911513\n  (4, 8)\t0.35987631398049097\n  (5, 15)\t0.645220633322045\n  (5, 11)\t0.645220633322045\n  (5, 8)\t0.4091218261972811\n  (6, 10)\t0.5421620785047858\n  (6, 25)\t0.5421620785047858\n  (6, 22)\t0.5421620785047858\n  (6, 7)\t0.3437744055250645\n  (7, 4)\t0.47661983877752523\n  (7, 26)\t0.47661983877752523\n  (7, 17)\t0.47661983877752523\n  (7, 5)\t0.47661983877752523\n  (7, 7)\t0.30221534893969804\n"
    }
   ],
   "source": [
    "vectorizer = TfidfVectorizer(stop_words=stopword)\n",
    "X = vectorizer.fit_transform(documents)"
   ]
  },
  {
   "cell_type": "code",
   "execution_count": 5,
   "metadata": {},
   "outputs": [
    {
     "output_type": "execute_result",
     "data": {
      "text/plain": "KMeans(algorithm='auto', copy_x=True, init='k-means++', max_iter=100,\n       n_clusters=2, n_init=1, n_jobs=None, precompute_distances='auto',\n       random_state=None, tol=0.0001, verbose=0)"
     },
     "metadata": {},
     "execution_count": 5
    }
   ],
   "source": [
    "true_k = 2\n",
    "model = KMeans(n_clusters=true_k, init='k-means++', max_iter=100, n_init=1)\n",
    "model.fit(X)"
   ]
  },
  {
   "cell_type": "code",
   "execution_count": 6,
   "metadata": {},
   "outputs": [
    {
     "output_type": "stream",
     "name": "stdout",
     "text": "Top terms per cluster:\ncluster 0:\n kucing\n terbaik\n memanjat\n ninja\n ambil\n foto\n bermain\n makan\n restoran\n perut\ncluster 1:\n google\n translate\n aplikasi\n umpan\n terkesan\n map\n utama\n chrome\n ekstensi\n promotor\n"
    }
   ],
   "source": [
    "print(\"Top terms per cluster:\")\n",
    "order_centroids = model.cluster_centers_.argsort()[:, ::-1]\n",
    "terms = vectorizer.get_feature_names()\n",
    "for i in range(true_k):\n",
    "    print(\"cluster %d:\" % i),\n",
    "    for ind in order_centroids[i, :10]:\n",
    "        print(' %s' % terms[ind]),\n",
    "    print"
   ]
  },
  {
   "cell_type": "code",
   "execution_count": 7,
   "metadata": {},
   "outputs": [
    {
     "output_type": "stream",
     "name": "stdout",
     "text": "[1]\n"
    }
   ],
   "source": [
    "Y = vectorizer.transform([\"membuka browser chrome.\"])\n",
    "prediction = model.predict(Y)\n",
    "print(prediction)"
   ]
  },
  {
   "cell_type": "code",
   "execution_count": 8,
   "metadata": {},
   "outputs": [
    {
     "output_type": "stream",
     "name": "stdout",
     "text": "[0]\n"
    }
   ],
   "source": [
    "Y = vectorizer.transform([\"kucing saya lapar.\"])\n",
    "prediction = model.predict(Y)\n",
    "print(prediction)"
   ]
  },
  {
   "cell_type": "code",
   "execution_count": null,
   "metadata": {},
   "outputs": [],
   "source": []
  }
 ],
 "metadata": {
  "language_info": {
   "codemirror_mode": {
    "name": "ipython",
    "version": 3
   },
   "file_extension": ".py",
   "mimetype": "text/x-python",
   "name": "python",
   "nbconvert_exporter": "python",
   "pygments_lexer": "ipython3",
   "version": "3.8.2-final"
  },
  "orig_nbformat": 2,
  "kernelspec": {
   "name": "python38264bit40c6fe10cef94c4693365092fefcad47",
   "display_name": "Python 3.8.2 64-bit"
  }
 },
 "nbformat": 4,
 "nbformat_minor": 2
}