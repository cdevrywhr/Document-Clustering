{
 "cells": [
  {
   "cell_type": "code",
   "execution_count": 3,
   "metadata": {},
   "outputs": [],
   "source": [
    "from sklearn.feature_extraction.text import TfidfVectorizer\n",
    "from sklearn.cluster import KMeans\n",
    "from sklearn.metrics import adjusted_rand_score"
   ]
  },
  {
   "cell_type": "code",
   "execution_count": 6,
   "metadata": {},
   "outputs": [],
   "source": [
    "documents = [\"This little kitty came to play when I was eating at a restaurant.\",\n",
    "             \"Merley has the best squooshy kitten belly.\",\n",
    "             \"Google Translate app is incredible.\",\n",
    "             \"If you open 100 tab in google you get a smiley face.\",\n",
    "             \"Best cat photo I've ever taken.\",\n",
    "             \"Climbing ninja cat.\",\n",
    "             \"Impressed with google map feedback.\",\n",
    "             \"Key promoter extension for Google Chrome.\"]"
   ]
  },
  {
   "cell_type": "code",
   "execution_count": 9,
   "metadata": {},
   "outputs": [
    {
     "output_type": "stream",
     "name": "stdout",
     "text": "TF.IDF Bentuk Matriks\n[[0.         0.         0.         0.         0.40824829 0.\n  0.         0.         0.40824829 0.         0.         0.\n  0.         0.         0.         0.         0.         0.40824829\n  0.40824829 0.         0.         0.         0.         0.\n  0.40824829 0.         0.40824829 0.         0.         0.\n  0.         0.         0.        ]\n [0.         0.         0.46114911 0.38647895 0.         0.\n  0.         0.         0.         0.         0.         0.\n  0.         0.         0.         0.         0.46114911 0.\n  0.         0.         0.46114911 0.         0.         0.\n  0.         0.         0.         0.         0.46114911 0.\n  0.         0.         0.        ]\n [0.         0.54216208 0.         0.         0.         0.\n  0.         0.         0.         0.         0.         0.\n  0.34377441 0.         0.54216208 0.         0.         0.\n  0.         0.         0.         0.         0.         0.\n  0.         0.         0.         0.         0.         0.\n  0.         0.54216208 0.        ]\n [0.4302495  0.         0.         0.         0.         0.\n  0.         0.         0.         0.         0.4302495  0.\n  0.27281282 0.         0.         0.         0.         0.\n  0.         0.         0.         0.         0.4302495  0.\n  0.         0.         0.         0.4302495  0.         0.4302495\n  0.         0.         0.        ]\n [0.         0.         0.         0.39932256 0.         0.39932256\n  0.         0.         0.         0.         0.         0.\n  0.         0.         0.         0.         0.         0.\n  0.         0.         0.         0.         0.         0.4764742\n  0.         0.         0.         0.         0.         0.\n  0.4764742  0.         0.4764742 ]\n [0.         0.         0.         0.         0.         0.5098139\n  0.         0.60831315 0.         0.         0.         0.\n  0.         0.         0.         0.         0.         0.\n  0.         0.         0.         0.60831315 0.         0.\n  0.         0.         0.         0.         0.         0.\n  0.         0.         0.        ]\n [0.         0.         0.         0.         0.         0.\n  0.         0.         0.         0.         0.         0.54216208\n  0.34377441 0.54216208 0.         0.         0.         0.\n  0.         0.54216208 0.         0.         0.         0.\n  0.         0.         0.         0.         0.         0.\n  0.         0.         0.        ]\n [0.         0.         0.         0.         0.         0.\n  0.47661984 0.         0.         0.47661984 0.         0.\n  0.30221535 0.         0.         0.47661984 0.         0.\n  0.         0.         0.         0.         0.         0.\n  0.         0.47661984 0.         0.         0.         0.\n  0.         0.         0.        ]]\nTF.IDF\n  (0, 26)\t0.408248290463863\n  (0, 8)\t0.408248290463863\n  (0, 24)\t0.408248290463863\n  (0, 4)\t0.408248290463863\n  (0, 17)\t0.408248290463863\n  (0, 18)\t0.408248290463863\n  (1, 2)\t0.46114911435169365\n  (1, 16)\t0.46114911435169365\n  (1, 28)\t0.46114911435169365\n  (1, 3)\t0.38647894810790673\n  (1, 20)\t0.46114911435169365\n  (2, 14)\t0.5421620785047858\n  (2, 1)\t0.5421620785047858\n  (2, 31)\t0.5421620785047858\n  (2, 12)\t0.3437744055250645\n  (3, 10)\t0.43024950073848917\n  (3, 27)\t0.43024950073848917\n  (3, 29)\t0.43024950073848917\n  (3, 0)\t0.43024950073848917\n  (3, 22)\t0.43024950073848917\n  (3, 12)\t0.272812821493793\n  (4, 30)\t0.47647419687686043\n  (4, 32)\t0.47647419687686043\n  (4, 23)\t0.47647419687686043\n  (4, 5)\t0.399322563306691\n  (4, 3)\t0.399322563306691\n  (5, 21)\t0.6083131546128155\n  (5, 7)\t0.6083131546128155\n  (5, 5)\t0.5098138992318764\n  (6, 11)\t0.5421620785047858\n  (6, 19)\t0.5421620785047858\n  (6, 13)\t0.5421620785047858\n  (6, 12)\t0.3437744055250645\n  (7, 6)\t0.47661983877752523\n  (7, 9)\t0.47661983877752523\n  (7, 25)\t0.47661983877752523\n  (7, 15)\t0.47661983877752523\n  (7, 12)\t0.30221534893969804\n"
    }
   ],
   "source": [
    "vectorizer = TfidfVectorizer(stop_words='english')\n",
    "X = vectorizer.fit_transform(documents)\n",
    "Xarray = X.toarray()\n",
    "print(\"TF.IDF Bentuk Matriks\")\n",
    "print(Xarray)\n",
    "print(\"TF.IDF\")\n",
    "print(X)"
   ]
  },
  {
   "cell_type": "code",
   "execution_count": 12,
   "metadata": {},
   "outputs": [
    {
     "output_type": "execute_result",
     "data": {
      "text/plain": "KMeans(algorithm='auto', copy_x=True, init='k-means++', max_iter=10,\n       n_clusters=2, n_init=1, n_jobs=None, precompute_distances='auto',\n       random_state=None, tol=0.0001, verbose=0)"
     },
     "metadata": {},
     "execution_count": 12
    }
   ],
   "source": [
    "true_k = 2\n",
    "model = KMeans(n_clusters=true_k, init='k-means++', max_iter=10, n_init=1)\n",
    "model.fit(X)"
   ]
  },
  {
   "cell_type": "code",
   "execution_count": 15,
   "metadata": {},
   "outputs": [
    {
     "output_type": "stream",
     "name": "stdout",
     "text": "Top terms per cluster:\nCluster 0:\n google\n ninja\n climbing\n app\n feedback\n impressed\n incredible\n translate\n map\n cat\nCluster 1:\n best\n ve\n photo\n taken\n belly\n merley\n kitten\n squooshy\n restaurant\n came\n\n\nPrediction\n"
    }
   ],
   "source": [
    "print(\"Top terms per cluster:\")\n",
    "order_centroids = model.cluster_centers_.argsort()[:, ::-1]\n",
    "terms = vectorizer.get_feature_names()\n",
    "for i in range(true_k):\n",
    "    print(\"Cluster %d:\" % i),\n",
    "    for ind in order_centroids[i, :10]:\n",
    "        print(' %s' % terms[ind]),\n",
    "    print\n",
    "\n",
    "print(\"\\n\")\n",
    "print(\"Prediction\")"
   ]
  },
  {
   "cell_type": "code",
   "execution_count": 18,
   "metadata": {},
   "outputs": [
    {
     "output_type": "stream",
     "name": "stdout",
     "text": "[0]\n"
    }
   ],
   "source": [
    "Y = vectorizer.transform([\"firefox is a new app browser .\"])\n",
    "prediction = model.predict(Y)\n",
    "print(prediction)"
   ]
  },
  {
   "cell_type": "code",
   "execution_count": 21,
   "metadata": {},
   "outputs": [
    {
     "output_type": "stream",
     "name": "stdout",
     "text": "[1]\n"
    }
   ],
   "source": [
    "Y = vectorizer.transform([\"i see you best photo.\"])\n",
    "prediction = model.predict(Y)\n",
    "print(prediction)"
   ]
  }
 ],
 "metadata": {
  "language_info": {
   "codemirror_mode": {
    "name": "ipython",
    "version": 3
   },
   "file_extension": ".py",
   "mimetype": "text/x-python",
   "name": "python",
   "nbconvert_exporter": "python",
   "pygments_lexer": "ipython3",
   "version": "3.8.2-final"
  },
  "orig_nbformat": 2,
  "kernelspec": {
   "name": "python38264bit40c6fe10cef94c4693365092fefcad47",
   "display_name": "Python 3.8.2 64-bit"
  }
 },
 "nbformat": 4,
 "nbformat_minor": 2
}